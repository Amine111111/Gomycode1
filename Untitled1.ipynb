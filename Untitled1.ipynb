{
 "cells": [
  {
   "cell_type": "code",
   "execution_count": null,
   "id": "4346f651",
   "metadata": {},
   "outputs": [],
   "source": [
    "import random\n",
    "Number = random.randint(1,100)\n",
    "guess = 0\n",
    "while guess !=Number:\n",
    "    guess=int(input(\"Enter\"))\n",
    "    if (guess < Number):\n",
    "        print (\"Guess higher\")\n",
    "    elif (guess > Number):\n",
    "        print (\"Guess Lower\")\n",
    "    else:\n",
    "        print (\"You Won\")"
   ]
  }
 ],
 "metadata": {
  "kernelspec": {
   "display_name": "Python 3 (ipykernel)",
   "language": "python",
   "name": "python3"
  },
  "language_info": {
   "codemirror_mode": {
    "name": "ipython",
    "version": 3
   },
   "file_extension": ".py",
   "mimetype": "text/x-python",
   "name": "python",
   "nbconvert_exporter": "python",
   "pygments_lexer": "ipython3",
   "version": "3.11.3"
  }
 },
 "nbformat": 4,
 "nbformat_minor": 5
}
