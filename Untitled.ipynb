{
 "cells": [
  {
   "cell_type": "code",
   "execution_count": 22,
   "id": "390bc0a3",
   "metadata": {},
   "outputs": [
    {
     "name": "stdout",
     "output_type": "stream",
     "text": [
      "How many students are there: 2\n",
      "How many subjects are there: 3\n",
      "Enter the mark for student 1 in subject 1: 15\n",
      "Enter the mark for student 1 in subject 2: 82\n",
      "Enter the mark for student 1 in subject 3: 65\n",
      "Enter the mark for student 2 in subject 1: 94\n",
      "Enter the mark for student 2 in subject 2: 85\n",
      "Enter the mark for student 2 in subject 3: 25\n",
      "Student 1 - Total Marks: 162.0, Percentage: 54.00%\n",
      "Student 2 - Total Marks: 204.0, Percentage: 68.00%\n"
     ]
    },
    {
     "ename": "TypeError",
     "evalue": "Cannot construct a dtype from an array",
     "output_type": "error",
     "traceback": [
      "\u001b[1;31m---------------------------------------------------------------------------\u001b[0m",
      "\u001b[1;31mTypeError\u001b[0m                                 Traceback (most recent call last)",
      "Cell \u001b[1;32mIn[22], line 31\u001b[0m\n\u001b[0;32m     29\u001b[0m     \u001b[38;5;28;01melse\u001b[39;00m:\n\u001b[0;32m     30\u001b[0m         grade\u001b[38;5;241m=\u001b[39m(\u001b[38;5;124m\"\u001b[39m\u001b[38;5;124mYou can do better - You got an F\u001b[39m\u001b[38;5;124m\"\u001b[39m)\n\u001b[1;32m---> 31\u001b[0m np\u001b[38;5;241m.\u001b[39marray(students,percentages)\n",
      "\u001b[1;31mTypeError\u001b[0m: Cannot construct a dtype from an array"
     ]
    }
   ],
   "source": [
    "import numpy as np\n",
    "\n",
    "students = int(input(\"How many students are there: \"))\n",
    "subjects = int(input(\"How many subjects are there: \"))\n",
    "marks = np.zeros((students, subjects))\n",
    "\n",
    "for i in range(students):\n",
    "    for j in range(subjects):\n",
    "        mark = int(input(f\"Enter the mark for student {i+1} in subject {j+1}: \"))\n",
    "        marks[i, j] = mark\n",
    "\n",
    "totals = np.sum(marks, axis=1)\n",
    "percentages = (totals / (subjects * 100)) * 100\n",
    "\n",
    "for i in range(students):\n",
    "    percent = percentages[i]\n",
    "    print(f\"Student {i+1} - Total Marks: {totals[i]}, Percentage: {percent:.2f}%\")\n",
    "    \n",
    "    if percent >= 90:\n",
    "        grade=(\"Excellent mark - You got an A+\")\n",
    "    elif percent >= 80:\n",
    "        grade=(\"Very Good mark - You got an A\")\n",
    "    elif percent >= 70:\n",
    "        grade=(\"Good mark - You got a B+\")\n",
    "    elif percent >= 60:\n",
    "        grade=(\"Nice mark - You got a B\")\n",
    "    elif percent >= 50:\n",
    "        grade=(\"Satisfactory mark - You got a C\")\n",
    "    else:\n",
    "        grade=(\"You can do better - You got an F\")\n",
    "np.array(students,percentages)"
   ]
  },
  {
   "cell_type": "code",
   "execution_count": null,
   "id": "e1940f8b",
   "metadata": {},
   "outputs": [],
   "source": []
  },
  {
   "cell_type": "code",
   "execution_count": null,
   "id": "78e47933",
   "metadata": {},
   "outputs": [],
   "source": []
  }
 ],
 "metadata": {
  "kernelspec": {
   "display_name": "Python 3 (ipykernel)",
   "language": "python",
   "name": "python3"
  },
  "language_info": {
   "codemirror_mode": {
    "name": "ipython",
    "version": 3
   },
   "file_extension": ".py",
   "mimetype": "text/x-python",
   "name": "python",
   "nbconvert_exporter": "python",
   "pygments_lexer": "ipython3",
   "version": "3.11.3"
  }
 },
 "nbformat": 4,
 "nbformat_minor": 5
}
