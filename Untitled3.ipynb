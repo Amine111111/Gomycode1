{
 "cells": [
  {
   "cell_type": "code",
   "execution_count": null,
   "id": "36813adc",
   "metadata": {},
   "outputs": [],
   "source": [
    "num1=(int(input(\"Enter your first Number :\")))\n",
    "Chosen=input(\"Enter an operator :\")\n",
    "num2=(int(input(\"Enter your second Number :\")))\n",
    "Result=0\n",
    "if (Chosen == '*') : \n",
    "    print (num1*num2)==Result\n",
    "elif (Chosen == '/') and num2 != 0:\n",
    "    print (num1/num2)==Result\n",
    "elif (Chosen == '-'):\n",
    "    print (num1-num2)==Result\n",
    "elif (Chosen == '+'):\n",
    "    print (num1+num2)==Result"
   ]
  },
  {
   "cell_type": "code",
   "execution_count": 20,
   "id": "5f4b4927",
   "metadata": {},
   "outputs": [
    {
     "name": "stdout",
     "output_type": "stream",
     "text": [
      "(1, 2, 3)\n"
     ]
    }
   ],
   "source": [
    "class Point3D:\n",
    "    def __init__(self, x, y ,z):\n",
    "        self.x = x\n",
    "        self.y = y\n",
    "        self.z = z\n",
    "    def mymy(self):\n",
    "        return (self.x,self.y,self.z)\n",
    "my_point =Point3D(1,2,3)\n",
    "print(my_point.mymy())"
   ]
  },
  {
   "cell_type": "code",
   "execution_count": 42,
   "id": "350d798c",
   "metadata": {},
   "outputs": [
    {
     "name": "stdout",
     "output_type": "stream",
     "text": [
      "14\n",
      "12\n"
     ]
    }
   ],
   "source": [
    "class Rectangle:\n",
    "    def __init__(self, length, width):\n",
    "        self.length = length\n",
    "        self.width = width\n",
    "\n",
    "    def perimeter(self):\n",
    "        return 2 * (self.length + self.width)\n",
    "\n",
    "    def area(self):\n",
    "        return self.length * self.width\n",
    "\n",
    "my_rectangle = Rectangle(4, 3)\n",
    "print(my_rectangle.perimeter())\n",
    "print(my_rectangle.area())\n"
   ]
  },
  {
   "cell_type": "code",
   "execution_count": null,
   "id": "12ef6778",
   "metadata": {},
   "outputs": [],
   "source": [
    "class Circle:\n",
    "    def __init__(self,O,R):\n",
    "        self.length = length\n",
    "        self.width = width"
   ]
  }
 ],
 "metadata": {
  "kernelspec": {
   "display_name": "Python 3 (ipykernel)",
   "language": "python",
   "name": "python3"
  },
  "language_info": {
   "codemirror_mode": {
    "name": "ipython",
    "version": 3
   },
   "file_extension": ".py",
   "mimetype": "text/x-python",
   "name": "python",
   "nbconvert_exporter": "python",
   "pygments_lexer": "ipython3",
   "version": "3.11.3"
  }
 },
 "nbformat": 4,
 "nbformat_minor": 5
}
