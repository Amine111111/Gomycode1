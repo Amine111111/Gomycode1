{
 "cells": [
  {
   "cell_type": "code",
   "execution_count": 33,
   "id": "b4ac4e1a",
   "metadata": {},
   "outputs": [
    {
     "name": "stdout",
     "output_type": "stream",
     "text": [
      "Enter your first Number :5\n",
      "Enter an operator :/\n",
      "Enter your second Number :0\n"
     ]
    }
   ],
   "source": [
    "def calculator():\n",
    "    calculator(num1,num2)\n",
    "num1=(int(input(\"Enter your first Number :\")))\n",
    "Chosen=input(\"Enter an operator :\")\n",
    "num2=(int(input(\"Enter your second Number :\")))\n",
    "Result=0\n",
    "if (Chosen == '*') : \n",
    "    print (num1*num2)==Result\n",
    "elif (Chosen == '/') and num2 != 0:\n",
    "    print (num1/num2)==Result\n",
    "elif (Chosen == '-'):\n",
    "    print (num1-num2)==Result\n",
    "elif (Chosen == '+'):\n",
    "    print (num1+num2)==Result"
   ]
  },
  {
   "cell_type": "code",
   "execution_count": null,
   "id": "727b645e",
   "metadata": {},
   "outputs": [],
   "source": []
  },
  {
   "cell_type": "code",
   "execution_count": null,
   "id": "eb849968",
   "metadata": {},
   "outputs": [],
   "source": []
  }
 ],
 "metadata": {
  "kernelspec": {
   "display_name": "Python 3 (ipykernel)",
   "language": "python",
   "name": "python3"
  },
  "language_info": {
   "codemirror_mode": {
    "name": "ipython",
    "version": 3
   },
   "file_extension": ".py",
   "mimetype": "text/x-python",
   "name": "python",
   "nbconvert_exporter": "python",
   "pygments_lexer": "ipython3",
   "version": "3.11.3"
  }
 },
 "nbformat": 4,
 "nbformat_minor": 5
}
