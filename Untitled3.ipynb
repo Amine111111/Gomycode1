{
 "cells": [
  {
   "cell_type": "code",
   "execution_count": 20,
   "id": "3ff38b8e",
   "metadata": {},
   "outputs": [
    {
     "name": "stdout",
     "output_type": "stream",
     "text": [
      "(1, 2, 3)\n"
     ]
    }
   ],
   "source": [
    "class Point3D:\n",
    "    def __init__(self, x, y ,z):\n",
    "        self.x = x\n",
    "        self.y = y\n",
    "        self.z = z\n",
    "    def mymy(self):\n",
    "        return (self.x,self.y,self.z)\n",
    "my_point =Point3D(1,2,3)\n",
    "print(my_point.mymy())"
   ]
  },
  {
   "cell_type": "code",
   "execution_count": 44,
   "id": "e10e1e07",
   "metadata": {},
   "outputs": [
    {
     "name": "stdout",
     "output_type": "stream",
     "text": [
      "14\n",
      "12\n"
     ]
    }
   ],
   "source": [
    "class Rectangle:\n",
    "    def __init__(self, length, width):\n",
    "        self.length = length\n",
    "        self.width = width\n",
    "\n",
    "    def perimeter(self):\n",
    "        return 2 * (self.length + self.width)\n",
    "\n",
    "    def area(self):\n",
    "        return (self.length * self.width)\n",
    "\n",
    "my_rectangle = Rectangle(4, 3)\n",
    "print(my_rectangle.perimeter())\n",
    "print(my_rectangle.area())"
   ]
  },
  {
   "cell_type": "code",
   "execution_count": 75,
   "id": "b6db1731",
   "metadata": {},
   "outputs": [
    {
     "name": "stdout",
     "output_type": "stream",
     "text": [
      "Area: 78.5\n",
      "Perimeter: 31.400000000000002\n",
      "Answer : True\n"
     ]
    }
   ],
   "source": [
    "class Circle:\n",
    "    def __init__(self, O, R):\n",
    "        self.O = O\n",
    "        self.R = R\n",
    "    \n",
    "    def area(self):\n",
    "        return 3.14 * self.R**2\n",
    "    \n",
    "    def perimeter(self):\n",
    "        return 2 * 3.14 * self.R\n",
    "    \n",
    "    def inside(self, x, y):\n",
    "        distance = (x - self.O[0])**2 + (y - self.O[1])**2\n",
    "        return distance <= self.R**2\n",
    "\n",
    "my_circle = Circle((0, 0), 5)\n",
    "\n",
    "print(\"Area:\", my_circle.area())\n",
    "print(\"Perimeter:\", my_circle.perimeter())\n",
    "print(\"Answer :\", my_circle.inside(2, 4))\n"
   ]
  },
  {
   "cell_type": "code",
   "execution_count": 67,
   "id": "84a173c5",
   "metadata": {},
   "outputs": [
    {
     "name": "stdout",
     "output_type": "stream",
     "text": [
      "Success of the operation\n",
      "Deposit failed.\n",
      "Success of the operation\n",
      "Withdrawal successful. New balance: 1200\n"
     ]
    }
   ],
   "source": [
    "class Bank:\n",
    "    def __init__(self, balance):\n",
    "        self.balance = balance\n",
    "    \n",
    "    def deposit(self, amount):\n",
    "        if amount > 0:\n",
    "            self.balance += amount\n",
    "            print(\"Success of the operation\")\n",
    "        else:\n",
    "            print(\"Failure\")\n",
    "    \n",
    "    def withdraw(self, amount):\n",
    "        if 0 < amount <= self.balance:\n",
    "            self.balance -= amount\n",
    "            print(\"Success of the operation\")\n",
    "            return True\n",
    "        else:\n",
    "            print(\"Failure\")\n",
    "            return False\n",
    "\n",
    "account = Bank(1000)\n",
    "\n",
    "if account.deposit(500):\n",
    "    print(\"Deposit successful. New balance:\", account.balance)\n",
    "else:\n",
    "    print(\"Deposit failed.\")\n",
    "\n",
    "if account.withdraw(300):\n",
    "    print(\"Withdrawal successful. New balance:\", account.balance)\n",
    "else:\n",
    "    print(\"Withdrawal failed.\")"
   ]
  },
  {
   "cell_type": "code",
   "execution_count": null,
   "id": "d5ff9194",
   "metadata": {},
   "outputs": [],
   "source": []
  }
 ],
 "metadata": {
  "kernelspec": {
   "display_name": "Python 3 (ipykernel)",
   "language": "python",
   "name": "python3"
  },
  "language_info": {
   "codemirror_mode": {
    "name": "ipython",
    "version": 3
   },
   "file_extension": ".py",
   "mimetype": "text/x-python",
   "name": "python",
   "nbconvert_exporter": "python",
   "pygments_lexer": "ipython3",
   "version": "3.11.3"
  }
 },
 "nbformat": 4,
 "nbformat_minor": 5
}
